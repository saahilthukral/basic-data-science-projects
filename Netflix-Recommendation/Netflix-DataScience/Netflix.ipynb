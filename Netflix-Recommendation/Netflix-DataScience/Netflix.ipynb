{
 "cells": [
  {
   "cell_type": "code",
   "execution_count": 1,
   "metadata": {},
   "outputs": [],
   "source": [
    "import numpy as np \n",
    "import pandas as pd"
   ]
  },
  {
   "cell_type": "code",
   "execution_count": 2,
   "metadata": {},
   "outputs": [],
   "source": [
    "df = pd.read_csv(\"/home/saahil/Desktop/Netflix-Recommendation/CONTENT_INTERACTION/ViewingActivity.csv\")\n",
    "#Planned to create a chart on my viewing habits for the show How I Met Your Mother\n",
    "#Got idea from dataquest.io"
   ]
  },
  {
   "cell_type": "code",
   "execution_count": 3,
   "metadata": {},
   "outputs": [
    {
     "data": {
      "text/html": [
       "<div>\n",
       "<style scoped>\n",
       "    .dataframe tbody tr th:only-of-type {\n",
       "        vertical-align: middle;\n",
       "    }\n",
       "\n",
       "    .dataframe tbody tr th {\n",
       "        vertical-align: top;\n",
       "    }\n",
       "\n",
       "    .dataframe thead th {\n",
       "        text-align: right;\n",
       "    }\n",
       "</style>\n",
       "<table border=\"1\" class=\"dataframe\">\n",
       "  <thead>\n",
       "    <tr style=\"text-align: right;\">\n",
       "      <th></th>\n",
       "      <th>Profile Name</th>\n",
       "      <th>Start Time</th>\n",
       "      <th>Duration</th>\n",
       "      <th>Attributes</th>\n",
       "      <th>Title</th>\n",
       "      <th>Supplemental Video Type</th>\n",
       "      <th>Device Type</th>\n",
       "      <th>Bookmark</th>\n",
       "      <th>Latest Bookmark</th>\n",
       "      <th>Country</th>\n",
       "    </tr>\n",
       "  </thead>\n",
       "  <tbody>\n",
       "    <tr>\n",
       "      <th>0</th>\n",
       "      <td>Kids</td>\n",
       "      <td>2019-03-28 09:51:02</td>\n",
       "      <td>00:00:31</td>\n",
       "      <td>Autoplayed: user action: Unspecified;</td>\n",
       "      <td>Benji</td>\n",
       "      <td>NaN</td>\n",
       "      <td>Chrome PC (Cadmium)</td>\n",
       "      <td>00:00:31</td>\n",
       "      <td>00:00:31</td>\n",
       "      <td>IN (India)</td>\n",
       "    </tr>\n",
       "  </tbody>\n",
       "</table>\n",
       "</div>"
      ],
      "text/plain": [
       "  Profile Name           Start Time  Duration  \\\n",
       "0         Kids  2019-03-28 09:51:02  00:00:31   \n",
       "\n",
       "                               Attributes  Title Supplemental Video Type  \\\n",
       "0  Autoplayed: user action: Unspecified;   Benji                     NaN   \n",
       "\n",
       "           Device Type  Bookmark Latest Bookmark     Country  \n",
       "0  Chrome PC (Cadmium)  00:00:31        00:00:31  IN (India)  "
      ]
     },
     "execution_count": 3,
     "metadata": {},
     "output_type": "execute_result"
    }
   ],
   "source": [
    "df.shape\n",
    "df.head(1)"
   ]
  },
  {
   "cell_type": "code",
   "execution_count": 4,
   "metadata": {
    "scrolled": true
   },
   "outputs": [
    {
     "data": {
      "text/html": [
       "<div>\n",
       "<style scoped>\n",
       "    .dataframe tbody tr th:only-of-type {\n",
       "        vertical-align: middle;\n",
       "    }\n",
       "\n",
       "    .dataframe tbody tr th {\n",
       "        vertical-align: top;\n",
       "    }\n",
       "\n",
       "    .dataframe thead th {\n",
       "        text-align: right;\n",
       "    }\n",
       "</style>\n",
       "<table border=\"1\" class=\"dataframe\">\n",
       "  <thead>\n",
       "    <tr style=\"text-align: right;\">\n",
       "      <th></th>\n",
       "      <th>Start Time</th>\n",
       "      <th>Duration</th>\n",
       "      <th>Title</th>\n",
       "    </tr>\n",
       "  </thead>\n",
       "  <tbody>\n",
       "    <tr>\n",
       "      <th>0</th>\n",
       "      <td>2019-03-28 09:51:02</td>\n",
       "      <td>00:00:31</td>\n",
       "      <td>Benji</td>\n",
       "    </tr>\n",
       "    <tr>\n",
       "      <th>1</th>\n",
       "      <td>2018-10-07 02:41:13</td>\n",
       "      <td>00:10:41</td>\n",
       "      <td>Planet Earth: Season 1: From Pole to Pole (Epi...</td>\n",
       "    </tr>\n",
       "    <tr>\n",
       "      <th>2</th>\n",
       "      <td>2018-10-07 02:17:42</td>\n",
       "      <td>00:20:51</td>\n",
       "      <td>The Boss Baby: Back in Business: Season 1: Sco...</td>\n",
       "    </tr>\n",
       "    <tr>\n",
       "      <th>3</th>\n",
       "      <td>2021-02-15 23:49:00</td>\n",
       "      <td>00:01:52</td>\n",
       "      <td>Parks and Recreation: Season 6: Recall Vote (E...</td>\n",
       "    </tr>\n",
       "    <tr>\n",
       "      <th>4</th>\n",
       "      <td>2021-02-15 23:27:56</td>\n",
       "      <td>00:21:03</td>\n",
       "      <td>Parks and Recreation: Season 6: Filibuster (Ep...</td>\n",
       "    </tr>\n",
       "  </tbody>\n",
       "</table>\n",
       "</div>"
      ],
      "text/plain": [
       "            Start Time  Duration  \\\n",
       "0  2019-03-28 09:51:02  00:00:31   \n",
       "1  2018-10-07 02:41:13  00:10:41   \n",
       "2  2018-10-07 02:17:42  00:20:51   \n",
       "3  2021-02-15 23:49:00  00:01:52   \n",
       "4  2021-02-15 23:27:56  00:21:03   \n",
       "\n",
       "                                               Title  \n",
       "0                                              Benji  \n",
       "1  Planet Earth: Season 1: From Pole to Pole (Epi...  \n",
       "2  The Boss Baby: Back in Business: Season 1: Sco...  \n",
       "3  Parks and Recreation: Season 6: Recall Vote (E...  \n",
       "4  Parks and Recreation: Season 6: Filibuster (Ep...  "
      ]
     },
     "execution_count": 4,
     "metadata": {},
     "output_type": "execute_result"
    }
   ],
   "source": [
    "#Drop unnecessary columns that are not required\n",
    "df = df.drop([\"Profile Name\", \"Supplemental Video Type\", \"Attributes\", \"Device Type\", \"Bookmark\", \"Latest Bookmark\", \"Country\"], axis =1)\n",
    "df.head(5)"
   ]
  },
  {
   "cell_type": "code",
   "execution_count": 5,
   "metadata": {},
   "outputs": [
    {
     "data": {
      "text/plain": [
       "Start Time    object\n",
       "Duration      object\n",
       "Title         object\n",
       "dtype: object"
      ]
     },
     "execution_count": 5,
     "metadata": {},
     "output_type": "execute_result"
    }
   ],
   "source": [
    "df.dtypes"
   ]
  },
  {
   "cell_type": "code",
   "execution_count": 6,
   "metadata": {},
   "outputs": [
    {
     "data": {
      "text/plain": [
       "Start Time    datetime64[ns, UTC]\n",
       "Duration                   object\n",
       "Title                      object\n",
       "dtype: object"
      ]
     },
     "execution_count": 6,
     "metadata": {},
     "output_type": "execute_result"
    }
   ],
   "source": [
    "#Convert object datatype to date and time in UTC\n",
    "df[\"Start Time\"] = pd.to_datetime(df[\"Start Time\"], utc = True)\n",
    "df.dtypes"
   ]
  },
  {
   "cell_type": "code",
   "execution_count": 7,
   "metadata": {},
   "outputs": [],
   "source": [
    "df = df.set_index(\"Start Time\")"
   ]
  },
  {
   "cell_type": "code",
   "execution_count": 8,
   "metadata": {},
   "outputs": [
    {
     "data": {
      "text/html": [
       "<div>\n",
       "<style scoped>\n",
       "    .dataframe tbody tr th:only-of-type {\n",
       "        vertical-align: middle;\n",
       "    }\n",
       "\n",
       "    .dataframe tbody tr th {\n",
       "        vertical-align: top;\n",
       "    }\n",
       "\n",
       "    .dataframe thead th {\n",
       "        text-align: right;\n",
       "    }\n",
       "</style>\n",
       "<table border=\"1\" class=\"dataframe\">\n",
       "  <thead>\n",
       "    <tr style=\"text-align: right;\">\n",
       "      <th></th>\n",
       "      <th>Start Time</th>\n",
       "      <th>Duration</th>\n",
       "      <th>Title</th>\n",
       "    </tr>\n",
       "  </thead>\n",
       "  <tbody>\n",
       "    <tr>\n",
       "      <th>0</th>\n",
       "      <td>2019-03-28 02:51:02-07:00</td>\n",
       "      <td>00:00:31</td>\n",
       "      <td>Benji</td>\n",
       "    </tr>\n",
       "  </tbody>\n",
       "</table>\n",
       "</div>"
      ],
      "text/plain": [
       "                 Start Time  Duration  Title\n",
       "0 2019-03-28 02:51:02-07:00  00:00:31  Benji"
      ]
     },
     "execution_count": 8,
     "metadata": {},
     "output_type": "execute_result"
    }
   ],
   "source": [
    "#Convert time to Pacific time\n",
    "df.index = df.index.tz_convert(\"US/Pacific\")\n",
    "df = df.reset_index()\n",
    "df.head(1)"
   ]
  },
  {
   "cell_type": "code",
   "execution_count": 9,
   "metadata": {},
   "outputs": [
    {
     "data": {
      "text/plain": [
       "Start Time    datetime64[ns, US/Pacific]\n",
       "Duration                 timedelta64[ns]\n",
       "Title                             object\n",
       "dtype: object"
      ]
     },
     "execution_count": 9,
     "metadata": {},
     "output_type": "execute_result"
    }
   ],
   "source": [
    "#Time Delta refers to the difference in time\n",
    "df[\"Duration\"] = pd.to_timedelta(df['Duration'])\n",
    "df.dtypes"
   ]
  },
  {
   "cell_type": "code",
   "execution_count": 10,
   "metadata": {},
   "outputs": [
    {
     "data": {
      "text/html": [
       "<div>\n",
       "<style scoped>\n",
       "    .dataframe tbody tr th:only-of-type {\n",
       "        vertical-align: middle;\n",
       "    }\n",
       "\n",
       "    .dataframe tbody tr th {\n",
       "        vertical-align: top;\n",
       "    }\n",
       "\n",
       "    .dataframe thead th {\n",
       "        text-align: right;\n",
       "    }\n",
       "</style>\n",
       "<table border=\"1\" class=\"dataframe\">\n",
       "  <thead>\n",
       "    <tr style=\"text-align: right;\">\n",
       "      <th></th>\n",
       "      <th>Start Time</th>\n",
       "      <th>Duration</th>\n",
       "      <th>Title</th>\n",
       "    </tr>\n",
       "  </thead>\n",
       "  <tbody>\n",
       "    <tr>\n",
       "      <th>384</th>\n",
       "      <td>2021-01-22 15:28:07-08:00</td>\n",
       "      <td>00:00:17</td>\n",
       "      <td>How I Met Your Mother: Season 1_hook_primary_16x9</td>\n",
       "    </tr>\n",
       "    <tr>\n",
       "      <th>2370</th>\n",
       "      <td>2020-06-25 23:53:55-07:00</td>\n",
       "      <td>00:00:04</td>\n",
       "      <td>How I Met Your Mother: Season 1_hook_02_16x9</td>\n",
       "    </tr>\n",
       "    <tr>\n",
       "      <th>4396</th>\n",
       "      <td>2020-01-20 09:27:48-08:00</td>\n",
       "      <td>00:00:05</td>\n",
       "      <td>How I Met Your Mother: Season 1_hook_primary_16x9</td>\n",
       "    </tr>\n",
       "    <tr>\n",
       "      <th>4420</th>\n",
       "      <td>2020-01-18 21:46:12-08:00</td>\n",
       "      <td>00:19:42</td>\n",
       "      <td>How I Met Your Mother: Season 9: Last Forever:...</td>\n",
       "    </tr>\n",
       "    <tr>\n",
       "      <th>4421</th>\n",
       "      <td>2020-01-18 21:25:47-08:00</td>\n",
       "      <td>00:20:24</td>\n",
       "      <td>How I Met Your Mother: Season 9: Last Forever:...</td>\n",
       "    </tr>\n",
       "    <tr>\n",
       "      <th>...</th>\n",
       "      <td>...</td>\n",
       "      <td>...</td>\n",
       "      <td>...</td>\n",
       "    </tr>\n",
       "    <tr>\n",
       "      <th>13006</th>\n",
       "      <td>2019-01-05 13:59:50-08:00</td>\n",
       "      <td>00:04:06</td>\n",
       "      <td>How I Met Your Mother: Season 1: Return of the...</td>\n",
       "    </tr>\n",
       "    <tr>\n",
       "      <th>13007</th>\n",
       "      <td>2019-01-05 13:33:48-08:00</td>\n",
       "      <td>00:20:27</td>\n",
       "      <td>How I Met Your Mother: Season 1: The Sweet Tas...</td>\n",
       "    </tr>\n",
       "    <tr>\n",
       "      <th>13008</th>\n",
       "      <td>2019-01-05 13:16:16-08:00</td>\n",
       "      <td>00:10:01</td>\n",
       "      <td>How I Met Your Mother: Season 1: Purple Giraff...</td>\n",
       "    </tr>\n",
       "    <tr>\n",
       "      <th>13009</th>\n",
       "      <td>2019-01-04 21:25:37-08:00</td>\n",
       "      <td>00:08:31</td>\n",
       "      <td>How I Met Your Mother: Season 1: Purple Giraff...</td>\n",
       "    </tr>\n",
       "    <tr>\n",
       "      <th>13010</th>\n",
       "      <td>2019-01-04 20:53:13-08:00</td>\n",
       "      <td>00:20:36</td>\n",
       "      <td>How I Met Your Mother: Season 1: Pilot (Episod...</td>\n",
       "    </tr>\n",
       "  </tbody>\n",
       "</table>\n",
       "<p>570 rows × 3 columns</p>\n",
       "</div>"
      ],
      "text/plain": [
       "                     Start Time Duration  \\\n",
       "384   2021-01-22 15:28:07-08:00 00:00:17   \n",
       "2370  2020-06-25 23:53:55-07:00 00:00:04   \n",
       "4396  2020-01-20 09:27:48-08:00 00:00:05   \n",
       "4420  2020-01-18 21:46:12-08:00 00:19:42   \n",
       "4421  2020-01-18 21:25:47-08:00 00:20:24   \n",
       "...                         ...      ...   \n",
       "13006 2019-01-05 13:59:50-08:00 00:04:06   \n",
       "13007 2019-01-05 13:33:48-08:00 00:20:27   \n",
       "13008 2019-01-05 13:16:16-08:00 00:10:01   \n",
       "13009 2019-01-04 21:25:37-08:00 00:08:31   \n",
       "13010 2019-01-04 20:53:13-08:00 00:20:36   \n",
       "\n",
       "                                                   Title  \n",
       "384    How I Met Your Mother: Season 1_hook_primary_16x9  \n",
       "2370        How I Met Your Mother: Season 1_hook_02_16x9  \n",
       "4396   How I Met Your Mother: Season 1_hook_primary_16x9  \n",
       "4420   How I Met Your Mother: Season 9: Last Forever:...  \n",
       "4421   How I Met Your Mother: Season 9: Last Forever:...  \n",
       "...                                                  ...  \n",
       "13006  How I Met Your Mother: Season 1: Return of the...  \n",
       "13007  How I Met Your Mother: Season 1: The Sweet Tas...  \n",
       "13008  How I Met Your Mother: Season 1: Purple Giraff...  \n",
       "13009  How I Met Your Mother: Season 1: Purple Giraff...  \n",
       "13010  How I Met Your Mother: Season 1: Pilot (Episod...  \n",
       "\n",
       "[570 rows x 3 columns]"
      ]
     },
     "execution_count": 10,
     "metadata": {},
     "output_type": "execute_result"
    }
   ],
   "source": [
    "#Create a dataframe with values of the original dataframe just for HIMYM\n",
    "himym = df[df['Title'].str.contains('How I Met Your Mother', regex = False)]\n",
    "himym"
   ]
  },
  {
   "cell_type": "code",
   "execution_count": 11,
   "metadata": {},
   "outputs": [
    {
     "data": {
      "text/plain": [
       "(518, 3)"
      ]
     },
     "execution_count": 11,
     "metadata": {},
     "output_type": "execute_result"
    }
   ],
   "source": [
    "#Filter our times less than 2 minutes\n",
    "himym = himym[himym[\"Duration\"]> '0 days 00:02:00']\n",
    "himym.shape"
   ]
  },
  {
   "cell_type": "code",
   "execution_count": 12,
   "metadata": {},
   "outputs": [
    {
     "data": {
      "text/plain": [
       "Timedelta('5 days 07:53:20')"
      ]
     },
     "execution_count": 12,
     "metadata": {},
     "output_type": "execute_result"
    }
   ],
   "source": [
    "himym['Duration'].sum()"
   ]
  },
  {
   "cell_type": "code",
   "execution_count": 13,
   "metadata": {},
   "outputs": [
    {
     "name": "stderr",
     "output_type": "stream",
     "text": [
      "<ipython-input-13-099976c9be98>:1: SettingWithCopyWarning: \n",
      "A value is trying to be set on a copy of a slice from a DataFrame.\n",
      "Try using .loc[row_indexer,col_indexer] = value instead\n",
      "\n",
      "See the caveats in the documentation: https://pandas.pydata.org/pandas-docs/stable/user_guide/indexing.html#returning-a-view-versus-a-copy\n",
      "  himym['Day'] = himym['Start Time'].dt.weekday\n",
      "<ipython-input-13-099976c9be98>:2: SettingWithCopyWarning: \n",
      "A value is trying to be set on a copy of a slice from a DataFrame.\n",
      "Try using .loc[row_indexer,col_indexer] = value instead\n",
      "\n",
      "See the caveats in the documentation: https://pandas.pydata.org/pandas-docs/stable/user_guide/indexing.html#returning-a-view-versus-a-copy\n",
      "  himym[\"Hour\"] = himym[\"Start Time\"].dt.hour\n"
     ]
    },
    {
     "data": {
      "text/html": [
       "<div>\n",
       "<style scoped>\n",
       "    .dataframe tbody tr th:only-of-type {\n",
       "        vertical-align: middle;\n",
       "    }\n",
       "\n",
       "    .dataframe tbody tr th {\n",
       "        vertical-align: top;\n",
       "    }\n",
       "\n",
       "    .dataframe thead th {\n",
       "        text-align: right;\n",
       "    }\n",
       "</style>\n",
       "<table border=\"1\" class=\"dataframe\">\n",
       "  <thead>\n",
       "    <tr style=\"text-align: right;\">\n",
       "      <th></th>\n",
       "      <th>Start Time</th>\n",
       "      <th>Duration</th>\n",
       "      <th>Title</th>\n",
       "      <th>Day</th>\n",
       "      <th>Hour</th>\n",
       "    </tr>\n",
       "  </thead>\n",
       "  <tbody>\n",
       "    <tr>\n",
       "      <th>4420</th>\n",
       "      <td>2020-01-18 21:46:12-08:00</td>\n",
       "      <td>00:19:42</td>\n",
       "      <td>How I Met Your Mother: Season 9: Last Forever:...</td>\n",
       "      <td>5</td>\n",
       "      <td>21</td>\n",
       "    </tr>\n",
       "    <tr>\n",
       "      <th>4421</th>\n",
       "      <td>2020-01-18 21:25:47-08:00</td>\n",
       "      <td>00:20:24</td>\n",
       "      <td>How I Met Your Mother: Season 9: Last Forever:...</td>\n",
       "      <td>5</td>\n",
       "      <td>21</td>\n",
       "    </tr>\n",
       "    <tr>\n",
       "      <th>4422</th>\n",
       "      <td>2020-01-18 21:06:14-08:00</td>\n",
       "      <td>00:17:34</td>\n",
       "      <td>How I Met Your Mother: Season 9: The End of th...</td>\n",
       "      <td>5</td>\n",
       "      <td>21</td>\n",
       "    </tr>\n",
       "    <tr>\n",
       "      <th>4428</th>\n",
       "      <td>2020-01-18 15:34:00-08:00</td>\n",
       "      <td>00:20:21</td>\n",
       "      <td>How I Met Your Mother: Season 9: Gary Blauman ...</td>\n",
       "      <td>5</td>\n",
       "      <td>15</td>\n",
       "    </tr>\n",
       "    <tr>\n",
       "      <th>4429</th>\n",
       "      <td>2020-01-18 15:12:51-08:00</td>\n",
       "      <td>00:19:26</td>\n",
       "      <td>How I Met Your Mother: Season 9: Daisy (Episod...</td>\n",
       "      <td>5</td>\n",
       "      <td>15</td>\n",
       "    </tr>\n",
       "    <tr>\n",
       "      <th>...</th>\n",
       "      <td>...</td>\n",
       "      <td>...</td>\n",
       "      <td>...</td>\n",
       "      <td>...</td>\n",
       "      <td>...</td>\n",
       "    </tr>\n",
       "    <tr>\n",
       "      <th>13006</th>\n",
       "      <td>2019-01-05 13:59:50-08:00</td>\n",
       "      <td>00:04:06</td>\n",
       "      <td>How I Met Your Mother: Season 1: Return of the...</td>\n",
       "      <td>5</td>\n",
       "      <td>13</td>\n",
       "    </tr>\n",
       "    <tr>\n",
       "      <th>13007</th>\n",
       "      <td>2019-01-05 13:33:48-08:00</td>\n",
       "      <td>00:20:27</td>\n",
       "      <td>How I Met Your Mother: Season 1: The Sweet Tas...</td>\n",
       "      <td>5</td>\n",
       "      <td>13</td>\n",
       "    </tr>\n",
       "    <tr>\n",
       "      <th>13008</th>\n",
       "      <td>2019-01-05 13:16:16-08:00</td>\n",
       "      <td>00:10:01</td>\n",
       "      <td>How I Met Your Mother: Season 1: Purple Giraff...</td>\n",
       "      <td>5</td>\n",
       "      <td>13</td>\n",
       "    </tr>\n",
       "    <tr>\n",
       "      <th>13009</th>\n",
       "      <td>2019-01-04 21:25:37-08:00</td>\n",
       "      <td>00:08:31</td>\n",
       "      <td>How I Met Your Mother: Season 1: Purple Giraff...</td>\n",
       "      <td>4</td>\n",
       "      <td>21</td>\n",
       "    </tr>\n",
       "    <tr>\n",
       "      <th>13010</th>\n",
       "      <td>2019-01-04 20:53:13-08:00</td>\n",
       "      <td>00:20:36</td>\n",
       "      <td>How I Met Your Mother: Season 1: Pilot (Episod...</td>\n",
       "      <td>4</td>\n",
       "      <td>20</td>\n",
       "    </tr>\n",
       "  </tbody>\n",
       "</table>\n",
       "<p>518 rows × 5 columns</p>\n",
       "</div>"
      ],
      "text/plain": [
       "                     Start Time Duration  \\\n",
       "4420  2020-01-18 21:46:12-08:00 00:19:42   \n",
       "4421  2020-01-18 21:25:47-08:00 00:20:24   \n",
       "4422  2020-01-18 21:06:14-08:00 00:17:34   \n",
       "4428  2020-01-18 15:34:00-08:00 00:20:21   \n",
       "4429  2020-01-18 15:12:51-08:00 00:19:26   \n",
       "...                         ...      ...   \n",
       "13006 2019-01-05 13:59:50-08:00 00:04:06   \n",
       "13007 2019-01-05 13:33:48-08:00 00:20:27   \n",
       "13008 2019-01-05 13:16:16-08:00 00:10:01   \n",
       "13009 2019-01-04 21:25:37-08:00 00:08:31   \n",
       "13010 2019-01-04 20:53:13-08:00 00:20:36   \n",
       "\n",
       "                                                   Title  Day  Hour  \n",
       "4420   How I Met Your Mother: Season 9: Last Forever:...    5    21  \n",
       "4421   How I Met Your Mother: Season 9: Last Forever:...    5    21  \n",
       "4422   How I Met Your Mother: Season 9: The End of th...    5    21  \n",
       "4428   How I Met Your Mother: Season 9: Gary Blauman ...    5    15  \n",
       "4429   How I Met Your Mother: Season 9: Daisy (Episod...    5    15  \n",
       "...                                                  ...  ...   ...  \n",
       "13006  How I Met Your Mother: Season 1: Return of the...    5    13  \n",
       "13007  How I Met Your Mother: Season 1: The Sweet Tas...    5    13  \n",
       "13008  How I Met Your Mother: Season 1: Purple Giraff...    5    13  \n",
       "13009  How I Met Your Mother: Season 1: Purple Giraff...    4    21  \n",
       "13010  How I Met Your Mother: Season 1: Pilot (Episod...    4    20  \n",
       "\n",
       "[518 rows x 5 columns]"
      ]
     },
     "execution_count": 13,
     "metadata": {},
     "output_type": "execute_result"
    }
   ],
   "source": [
    "himym['Day'] = himym['Start Time'].dt.weekday\n",
    "himym[\"Hour\"] = himym[\"Start Time\"].dt.hour\n",
    "himym"
   ]
  },
  {
   "cell_type": "code",
   "execution_count": 14,
   "metadata": {},
   "outputs": [],
   "source": [
    "#Makes the matlplotlib charts appear on the notebook\n",
    "%matplotlib inline\n",
    "import matplotlib"
   ]
  },
  {
   "cell_type": "code",
   "execution_count": 15,
   "metadata": {},
   "outputs": [
    {
     "name": "stderr",
     "output_type": "stream",
     "text": [
      "<ipython-input-15-bc24dae11ddd>:2: SettingWithCopyWarning: \n",
      "A value is trying to be set on a copy of a slice from a DataFrame.\n",
      "Try using .loc[row_indexer,col_indexer] = value instead\n",
      "\n",
      "See the caveats in the documentation: https://pandas.pydata.org/pandas-docs/stable/user_guide/indexing.html#returning-a-view-versus-a-copy\n",
      "  himym[\"Day\"] = pd.Categorical(himym[\"Day\"], categories = [0,1,2,3,4,5,6], ordered = True)\n"
     ]
    },
    {
     "data": {
      "text/plain": [
       "<matplotlib.axes._subplots.AxesSubplot at 0x7f13d11f2df0>"
      ]
     },
     "execution_count": 15,
     "metadata": {},
     "output_type": "execute_result"
    },
    {
     "data": {
      "image/png": "[encoded data removed]",
      "text/plain": [
       "<Figure size 1440x720 with 1 Axes>"
      ]
     },
     "metadata": {
      "needs_background": "light"
     },
     "output_type": "display_data"
    }
   ],
   "source": [
    "#Time to order the charts\n",
    "himym[\"Day\"] = pd.Categorical(himym[\"Day\"], categories = [0,1,2,3,4,5,6], ordered = True)\n",
    "\n",
    "#Count row values to the variables\n",
    "himym_days = himym['Day'].value_counts()\n",
    "\n",
    "#Sort the index\n",
    "himym_days = himym_days.sort_index()\n",
    "\n",
    "himym_days.plot(kind='bar', figsize=(20,10), title='How I met Your mother Episodes Watched by Day')\n"
   ]
  },
  {
   "cell_type": "code",
   "execution_count": 17,
   "metadata": {},
   "outputs": [
    {
     "name": "stderr",
     "output_type": "stream",
     "text": [
      "<ipython-input-17-9aa969f36fe8>:2: SettingWithCopyWarning: \n",
      "A value is trying to be set on a copy of a slice from a DataFrame.\n",
      "Try using .loc[row_indexer,col_indexer] = value instead\n",
      "\n",
      "See the caveats in the documentation: https://pandas.pydata.org/pandas-docs/stable/user_guide/indexing.html#returning-a-view-versus-a-copy\n",
      "  himym[\"Hour\"] = pd.Categorical(himym[\"Hour\"], categories = [0,1,2,3,4,5,6,7,8,9,10,11,12,13,14,15,16,17,18,19,20,21,22,23], ordered = True)\n"
     ]
    },
    {
     "data": {
      "text/plain": [
       "<matplotlib.axes._subplots.AxesSubplot at 0x7f13d0934730>"
      ]
     },
     "execution_count": 17,
     "metadata": {},
     "output_type": "execute_result"
    },
    {
     "data": {
      "image/png": "[encoded data removed]",
      "text/plain": [
       "<Figure size 1440x720 with 1 Axes>"
      ]
     },
     "metadata": {
      "needs_background": "light"
     },
     "output_type": "display_data"
    }
   ],
   "source": [
    "#Time to order the charts\n",
    "himym[\"Hour\"] = pd.Categorical(himym[\"Hour\"], categories = [0,1,2,3,4,5,6,7,8,9,10,11,12,13,14,15,16,17,18,19,20,21,22,23], ordered = True)\n",
    "\n",
    "#Count row values to the variables\n",
    "himym_hour = himym['Hour'].value_counts()\n",
    "\n",
    "#Sort the index\n",
    "himym_hour = himym_hour.sort_index()\n",
    "\n",
    "#24-hour time\n",
    "himym_hour.plot(kind='bar', figsize=(20,10), title='How I met Your mother Episodes Watched by Time')\n"
   ]
  }
 ],
 "metadata": {
  "kernelspec": {
   "display_name": "Python 3",
   "language": "python",
   "name": "python3"
  },
  "language_info": {
   "codemirror_mode": {
    "name": "ipython",
    "version": 3
   },
   "file_extension": ".py",
   "mimetype": "text/x-python",
   "name": "python",
   "nbconvert_exporter": "python",
   "pygments_lexer": "ipython3",
   "version": "3.8.3"
  }
 },
 "nbformat": 4,
 "nbformat_minor": 4
}
